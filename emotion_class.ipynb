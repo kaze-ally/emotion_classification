{
 "cells": [
  {
   "cell_type": "markdown",
   "id": "e01587c2",
   "metadata": {},
   "source": [
    "# Emotion Classification Project"
   ]
  },
  {
   "cell_type": "code",
   "execution_count": null,
   "id": "5c3f2533",
   "metadata": {},
   "outputs": [],
   "source": [
    "# import necessary libraries\n",
    "from sklearn.feature_extraction.text import CountVectorizer\n",
    "from sklearn.ensemble import RandomForestClassifier\n",
    "from sklearn.pipeline import Pipeline\n",
    "from sklearn.metrics import classification_report\n",
    "import pandas as pd\n",
    "from sklearn.naive_bayes import MultinomialNB"
   ]
  },
  {
   "cell_type": "code",
   "execution_count": null,
   "id": "41e54891",
   "metadata": {},
   "outputs": [
    {
     "name": "stdout",
     "output_type": "stream",
     "text": [
      "                                             Comment Emotion\n",
      "0  i seriously hate one subject to death but now ...    fear\n",
      "1                 im so full of life i feel appalled   anger\n",
      "2  i sit here to write i start to dig out my feel...    fear\n",
      "3  ive been really angry with r and i feel like a...     joy\n",
      "4  i feel suspicious if there is no one outside l...    fear\n",
      "(5937, 2)\n"
     ]
    }
   ],
   "source": [
    "# Load the dataset\n",
    "df=pd.read_csv(\"Emotion_classify_Data.csv\")\n",
    "print(df.head(5))\n",
    "print(df.shape)"
   ]
  },
  {
   "cell_type": "code",
   "execution_count": 2,
   "id": "4b3c690d",
   "metadata": {},
   "outputs": [
    {
     "data": {
      "text/plain": [
       "Index(['Comment', 'Emotion'], dtype='object')"
      ]
     },
     "execution_count": 2,
     "metadata": {},
     "output_type": "execute_result"
    }
   ],
   "source": [
    "df.columns"
   ]
  },
  {
   "cell_type": "code",
   "execution_count": 3,
   "id": "881a08a8",
   "metadata": {},
   "outputs": [
    {
     "name": "stdout",
     "output_type": "stream",
     "text": [
      "Emotion\n",
      "anger    2000\n",
      "joy      2000\n",
      "fear     1937\n",
      "Name: count, dtype: int64\n"
     ]
    }
   ],
   "source": [
    "print(df.Emotion.value_counts())"
   ]
  },
  {
   "cell_type": "code",
   "execution_count": null,
   "id": "b3dca5fb",
   "metadata": {},
   "outputs": [
    {
     "name": "stdout",
     "output_type": "stream",
     "text": [
      "                                             Comment Emotion  Emotion_num\n",
      "0  i seriously hate one subject to death but now ...    fear            1\n",
      "1                 im so full of life i feel appalled   anger            2\n",
      "2  i sit here to write i start to dig out my feel...    fear            1\n",
      "3  ive been really angry with r and i feel like a...     joy            0\n",
      "4  i feel suspicious if there is no one outside l...    fear            1\n"
     ]
    }
   ],
   "source": [
    "#creating new column with numerical values for emotions\n",
    "df[\"Emotion_num\"]=df[\"Emotion\"].map({\n",
    "    'joy': 0, 'fear' : 1, 'anger': 2\n",
    "})\n",
    "print(df.head(5))"
   ]
  },
  {
   "cell_type": "code",
   "execution_count": null,
   "id": "312149e8",
   "metadata": {},
   "outputs": [],
   "source": [
    "from sklearn.model_selection import train_test_split\n",
    "# Split the dataset into training and testing sets\n",
    "X_train, X_test, y_train, y_test = train_test_split(\n",
    "    df['Comment'], df['Emotion_num'], \n",
    "    test_size=0.2, \n",
    "    random_state=2022, \n",
    "    stratify=df['Emotion_num']\n",
    ")"
   ]
  },
  {
   "cell_type": "code",
   "execution_count": 6,
   "id": "21150527",
   "metadata": {},
   "outputs": [
    {
     "name": "stdout",
     "output_type": "stream",
     "text": [
      "(4749,) (1188,)\n"
     ]
    }
   ],
   "source": [
    "print(X_train.shape,X_test.shape)"
   ]
  },
  {
   "cell_type": "markdown",
   "id": "1828c686",
   "metadata": {},
   "source": [
    "### Creating pipelines with CountVectorizer and ML models"
   ]
  },
  {
   "cell_type": "code",
   "execution_count": null,
   "id": "90852761",
   "metadata": {},
   "outputs": [
    {
     "name": "stdout",
     "output_type": "stream",
     "text": [
      "              precision    recall  f1-score   support\n",
      "\n",
      "           0       0.57      0.27      0.37       400\n",
      "           1       0.37      0.79      0.50       388\n",
      "           2       0.52      0.21      0.30       400\n",
      "\n",
      "    accuracy                           0.42      1188\n",
      "   macro avg       0.49      0.42      0.39      1188\n",
      "weighted avg       0.49      0.42      0.39      1188\n",
      "\n"
     ]
    }
   ],
   "source": [
    "# Create a pipeline with CountVectorizer and RandomForestClassifier\n",
    "pipeline = Pipeline([\n",
    "    ('vect', CountVectorizer(ngram_range=(3, 3))),\n",
    "    ('clf', RandomForestClassifier(random_state=2022))\n",
    "])\n",
    "\n",
    "\n",
    "pipeline.fit(X_train, y_train)\n",
    "\n",
    "\n",
    "y_pred = pipeline.predict(X_test)\n",
    "\n",
    "\n",
    "print(classification_report(y_test, y_pred))\n"
   ]
  },
  {
   "cell_type": "code",
   "execution_count": 10,
   "id": "8d2aa0ac",
   "metadata": {},
   "outputs": [
    {
     "name": "stdout",
     "output_type": "stream",
     "text": [
      "              precision    recall  f1-score   support\n",
      "\n",
      "           0       0.87      0.86      0.87       400\n",
      "           1       0.87      0.83      0.85       388\n",
      "           2       0.83      0.88      0.85       400\n",
      "\n",
      "    accuracy                           0.86      1188\n",
      "   macro avg       0.86      0.86      0.86      1188\n",
      "weighted avg       0.86      0.86      0.86      1188\n",
      "\n"
     ]
    }
   ],
   "source": [
    "# Create a pipeline with CountVectorizer and MultinomialNB\n",
    "pipeline_nb = Pipeline([\n",
    "    ('vect', CountVectorizer(ngram_range=(1, 2))),\n",
    "    ('clf', MultinomialNB())\n",
    "])\n",
    "\n",
    "pipeline_nb.fit(X_train, y_train)\n",
    "\n",
    "y_pred = pipeline_nb.predict(X_test)\n",
    "\n",
    "print(classification_report(y_test, y_pred))\n"
   ]
  },
  {
   "cell_type": "code",
   "execution_count": 11,
   "id": "93f100b6",
   "metadata": {},
   "outputs": [
    {
     "name": "stdout",
     "output_type": "stream",
     "text": [
      "              precision    recall  f1-score   support\n",
      "\n",
      "           0       0.83      0.96      0.89       400\n",
      "           1       0.95      0.87      0.91       388\n",
      "           2       0.93      0.87      0.90       400\n",
      "\n",
      "    accuracy                           0.90      1188\n",
      "   macro avg       0.91      0.90      0.90      1188\n",
      "weighted avg       0.91      0.90      0.90      1188\n",
      "\n"
     ]
    }
   ],
   "source": [
    "# Create a pipeline with CountVectorizer(bigram) and RandomForestClassifier\n",
    "pipeline_rf = Pipeline([\n",
    "    ('vect', CountVectorizer(ngram_range=(1, 2))),\n",
    "    ('clf', RandomForestClassifier(random_state=2022))\n",
    "])\n",
    "pipeline_rf.fit(X_train, y_train)\n",
    "\n",
    "y_pred = pipeline_rf.predict(X_test)\n",
    "\n",
    "print(classification_report(y_test, y_pred))"
   ]
  },
  {
   "cell_type": "markdown",
   "id": "e5b1bf3d",
   "metadata": {},
   "source": [
    "### Creating pipelines with tf-idf and Ml models\n"
   ]
  },
  {
   "cell_type": "code",
   "execution_count": 12,
   "id": "48c3180c",
   "metadata": {},
   "outputs": [
    {
     "name": "stdout",
     "output_type": "stream",
     "text": [
      "              precision    recall  f1-score   support\n",
      "\n",
      "           0       0.87      0.95      0.91       400\n",
      "           1       0.92      0.90      0.91       388\n",
      "           2       0.95      0.86      0.90       400\n",
      "\n",
      "    accuracy                           0.91      1188\n",
      "   macro avg       0.91      0.91      0.91      1188\n",
      "weighted avg       0.91      0.91      0.91      1188\n",
      "\n"
     ]
    }
   ],
   "source": [
    "from sklearn.feature_extraction.text import TfidfVectorizer\n",
    "# Create a pipeline with TfidfVectorizer and RandomForestClassifier\n",
    "pipeline_tfidf_rf = Pipeline([\n",
    "    ('vect', TfidfVectorizer()),\n",
    "    ('clf', RandomForestClassifier(random_state=2022))\n",
    "])\n",
    "\n",
    "pipeline_tfidf_rf.fit(X_train, y_train)\n",
    "\n",
    "y_pred = pipeline_tfidf_rf.predict(X_test)\n",
    "\n",
    "print(classification_report(y_test, y_pred))"
   ]
  },
  {
   "cell_type": "markdown",
   "id": "c1e5d7e5",
   "metadata": {},
   "source": [
    "### Using spacy to remove stop words and punctuation"
   ]
  },
  {
   "cell_type": "code",
   "execution_count": 13,
   "id": "8be3fa76",
   "metadata": {},
   "outputs": [],
   "source": [
    "import spacy\n",
    "# Load the English NLP model\n",
    "nlp = spacy.load(\"en_core_web_sm\") \n",
    "# Function to preprocess text using spaCy\n",
    "def preprocess(text):\n",
    "    doc = nlp(text)\n",
    "    filtered_tokens = []\n",
    "    for token in doc:\n",
    "        if token.is_stop or token.is_punct:\n",
    "            continue\n",
    "        filtered_tokens.append(token.lemma_)\n",
    "    return \" \".join(filtered_tokens) "
   ]
  },
  {
   "cell_type": "code",
   "execution_count": 14,
   "id": "4842e4c7",
   "metadata": {},
   "outputs": [],
   "source": [
    "# Apply preprocessing to the 'Comment' column\n",
    "df[\"preprocessed_comment\"]=df[\"Comment\"].apply(preprocess)"
   ]
  },
  {
   "cell_type": "code",
   "execution_count": 15,
   "id": "92dffe5c",
   "metadata": {},
   "outputs": [
    {
     "data": {
      "text/plain": [
       "0        seriously hate subject death feel reluctant drop\n",
       "1                                    m life feel appalled\n",
       "2       sit write start dig feeling think afraid accep...\n",
       "3                  ve angry r feel like idiot trust place\n",
       "4             feel suspicious outside like rapture happen\n",
       "                              ...                        \n",
       "5932                                begin feel distressed\n",
       "5933    leave feel annoyed angry thinking center stupi...\n",
       "5934    marry d ready offer ve get club perfect good l...\n",
       "5935    feel reluctant apply want able find company kn...\n",
       "5936             want apologize feel like heartless bitch\n",
       "Name: preprocessed_comment, Length: 5937, dtype: object"
      ]
     },
     "execution_count": 15,
     "metadata": {},
     "output_type": "execute_result"
    }
   ],
   "source": [
    "df[\"preprocessed_comment\"]"
   ]
  },
  {
   "cell_type": "code",
   "execution_count": 16,
   "id": "7fe97815",
   "metadata": {},
   "outputs": [],
   "source": [
    "X_train_prep, X_test_prep, y_train_prep, y_test_prep = train_test_split(\n",
    "    df['preprocessed_comment'], df['Emotion_num'],\n",
    "    test_size=0.2,\n",
    "    random_state=2022,\n",
    "    stratify=df['Emotion_num']\n",
    ")\n"
   ]
  },
  {
   "cell_type": "code",
   "execution_count": 17,
   "id": "f76d9db9",
   "metadata": {},
   "outputs": [
    {
     "name": "stdout",
     "output_type": "stream",
     "text": [
      "              precision    recall  f1-score   support\n",
      "\n",
      "           0       0.80      0.95      0.87       400\n",
      "           1       0.95      0.81      0.87       388\n",
      "           2       0.90      0.85      0.87       400\n",
      "\n",
      "    accuracy                           0.87      1188\n",
      "   macro avg       0.88      0.87      0.87      1188\n",
      "weighted avg       0.88      0.87      0.87      1188\n",
      "\n"
     ]
    }
   ],
   "source": [
    "# Create a pipeline with CountVectorizer(bigram) and RandomForestClassifier after preprocessing\n",
    "pipeline_rf_prep = Pipeline([\n",
    "    ('vect', CountVectorizer(ngram_range=(1, 2))),\n",
    "    ('clf', RandomForestClassifier(random_state=2022))\n",
    "])\n",
    "\n",
    "pipeline_rf_prep.fit(X_train_prep, y_train_prep)\n",
    "y_pred=pipeline_rf_prep.predict(X_test)\n",
    "\n",
    "print(classification_report(y_test_prep, y_pred))"
   ]
  },
  {
   "cell_type": "code",
   "execution_count": 18,
   "id": "2d7727f9",
   "metadata": {},
   "outputs": [
    {
     "name": "stdout",
     "output_type": "stream",
     "text": [
      "              precision    recall  f1-score   support\n",
      "\n",
      "           0       0.93      0.94      0.93       400\n",
      "           1       0.93      0.92      0.93       388\n",
      "           2       0.93      0.92      0.93       400\n",
      "\n",
      "    accuracy                           0.93      1188\n",
      "   macro avg       0.93      0.93      0.93      1188\n",
      "weighted avg       0.93      0.93      0.93      1188\n",
      "\n"
     ]
    }
   ],
   "source": [
    "# Create a pipeline with TfidfVectorizer and RandomForestClassifier after preprocessing\n",
    "pipeline_tfidf_rf_prep = Pipeline([\n",
    "    ('vect', TfidfVectorizer(ngram_range=(1, 2))),\n",
    "    ('clf', RandomForestClassifier(random_state=2022))\n",
    "])\n",
    "\n",
    "pipeline_tfidf_rf_prep.fit(X_train_prep, y_train_prep)\n",
    "y_pred = pipeline_tfidf_rf_prep.predict(X_test_prep)\n",
    "\n",
    "print(classification_report(y_test_prep, y_pred))"
   ]
  },
  {
   "cell_type": "code",
   "execution_count": null,
   "id": "a60bdced",
   "metadata": {},
   "outputs": [
    {
     "data": {
      "image/png": "[encoded data removed]",
      "text/plain": [
       "<Figure size 640x480 with 2 Axes>"
      ]
     },
     "metadata": {},
     "output_type": "display_data"
    }
   ],
   "source": [
    "from sklearn.metrics import confusion_matrix, ConfusionMatrixDisplay\n",
    "\n",
    "# Compute confusion matrix\n",
    "cm = confusion_matrix(y_test_prep, y_pred, labels=[0, 1, 2])\n",
    "\n",
    "\n",
    "disp = ConfusionMatrixDisplay(confusion_matrix=cm, display_labels=['joy', 'fear', 'anger'])\n",
    "disp.plot(cmap='Blues')\n",
    "plt.title(\"Confusion Matrix (Test Set)\")\n",
    "plt.xlabel(\"Predicted Label\")\n",
    "plt.ylabel(\"True Label\")\n",
    "plt.show()\n"
   ]
  },
  {
   "cell_type": "markdown",
   "id": "a69dcac1",
   "metadata": {},
   "source": [
    "### Creating a function to predict the emotion of the given sentence "
   ]
  },
  {
   "cell_type": "code",
   "execution_count": null,
   "id": "f57b916b",
   "metadata": {},
   "outputs": [
    {
     "name": "stdout",
     "output_type": "stream",
     "text": [
      "Predicted emotion: joy\n"
     ]
    }
   ],
   "source": [
    "def predict_emotion(sentence):\n",
    "    # Use the best model: pipeline_tfidf_rf_prep (TF-IDF + RandomForest on preprocessed text)\n",
    "    preprocessed = preprocess(sentence)\n",
    "    pred_num = pipeline_tfidf_rf_prep.predict([preprocessed])[0]\n",
    "    # Map numerical prediction back to emotion label\n",
    "    emotion_map = {0: 'joy', 1: 'fear', 2: 'anger'}\n",
    "    return emotion_map.get(pred_num, \"Unknown\")\n",
    "\n",
    "test_sentence = \"I can't stop smiling—getting that promotion feels like all my hard work finally paid off!\"\n",
    "predicted_emotion = predict_emotion(test_sentence)\n",
    "print(f\"Predicted emotion: {predicted_emotion}\")"
   ]
  },
  {
   "cell_type": "code",
   "execution_count": 22,
   "id": "b727ed55",
   "metadata": {},
   "outputs": [
    {
     "name": "stdout",
     "output_type": "stream",
     "text": [
      "Predicted emotion: fear\n"
     ]
    }
   ],
   "source": [
    "test_sentence2 = \"My hands are trembling as I stare at the test results, too terrified to read what they might say.\"\n",
    "predicted_emotion2 = predict_emotion(test_sentence2)\n",
    "print(f\"Predicted emotion: {predicted_emotion2}\")\n"
   ]
  },
  {
   "cell_type": "code",
   "execution_count": 21,
   "id": "90d2a087",
   "metadata": {},
   "outputs": [
    {
     "name": "stdout",
     "output_type": "stream",
     "text": [
      "Predicted emotion: anger\n"
     ]
    }
   ],
   "source": [
    "test_sentence3 = \"I'm absolutely furious that they lied to my face after I trusted them completely.\"\n",
    "predicted_emotion3 = predict_emotion(test_sentence3)\n",
    "print(f\"Predicted emotion: {predicted_emotion3}\")"
   ]
  }
 ],
 "metadata": {
  "kernelspec": {
   "display_name": "myenv",
   "language": "python",
   "name": "python3"
  },
  "language_info": {
   "codemirror_mode": {
    "name": "ipython",
    "version": 3
   },
   "file_extension": ".py",
   "mimetype": "text/x-python",
   "name": "python",
   "nbconvert_exporter": "python",
   "pygments_lexer": "ipython3",
   "version": "3.12.5"
  }
 },
 "nbformat": 4,
 "nbformat_minor": 5
}
